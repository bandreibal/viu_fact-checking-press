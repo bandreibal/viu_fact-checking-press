{
 "cells": [
  {
   "cell_type": "code",
   "execution_count": 1,
   "metadata": {},
   "outputs": [],
   "source": [
    "from langchain.chains import RetrievalQAWithSourcesChain\n",
    "from langchain.prompts.chat import (\n",
    "    ChatPromptTemplate,\n",
    "    SystemMessagePromptTemplate,\n",
    "    HumanMessagePromptTemplate,\n",
    ")\n",
    "\n",
    "from langchain.embeddings.cohere import CohereEmbeddings\n",
    "from langchain.llms import Cohere\n",
    "from langchain.prompts import PromptTemplate\n",
    "from langchain.text_splitter import RecursiveCharacterTextSplitter\n",
    "from langchain.chains.question_answering import load_qa_chain\n",
    "from langchain.vectorstores import Qdrant\n",
    "from langchain.document_loaders import TextLoader\n",
    "from IPython.display import display, Markdown, Latex\n",
    "import os\n",
    "\n",
    "os.environ[\"COHERE_API_KEY\"] = \"aOWxdujRJfdvlM2YqYwYvjuUbDujqcAFhDYJdnqC\""
   ]
  },
  {
   "cell_type": "code",
   "execution_count": 5,
   "metadata": {},
   "outputs": [
    {
     "name": "stderr",
     "output_type": "stream",
     "text": [
      "Created a chunk of size 492, which is longer than the specified 100\n",
      "Created a chunk of size 530, which is longer than the specified 100\n",
      "Created a chunk of size 471, which is longer than the specified 100\n",
      "Created a chunk of size 310, which is longer than the specified 100\n",
      "Created a chunk of size 593, which is longer than the specified 100\n",
      "Created a chunk of size 475, which is longer than the specified 100\n",
      "Created a chunk of size 611, which is longer than the specified 100\n",
      "Created a chunk of size 699, which is longer than the specified 100\n",
      "Created a chunk of size 390, which is longer than the specified 100\n",
      "Created a chunk of size 471, which is longer than the specified 100\n",
      "Created a chunk of size 776, which is longer than the specified 100\n",
      "Created a chunk of size 593, which is longer than the specified 100\n",
      "Created a chunk of size 475, which is longer than the specified 100\n",
      "Created a chunk of size 611, which is longer than the specified 100\n",
      "Created a chunk of size 699, which is longer than the specified 100\n",
      "Created a chunk of size 390, which is longer than the specified 100\n"
     ]
    }
   ],
   "source": [
    "# save the embeddings in a DB that is persistent\n",
    "from langchain.document_loaders import TextLoader\n",
    "from langchain.text_splitter import CharacterTextSplitter\n",
    "loader = TextLoader(\"data/sources_txt/abc.txt\")\n",
    "document=loader.load()\n",
    "docs=document[0].page_content\n",
    "text_splitter = CharacterTextSplitter(\n",
    "    # Set a really small chunk size, just to show.\n",
    "    separator ='\\n\\n',\n",
    "    chunk_size = 100,\n",
    "    chunk_overlap  = 0,\n",
    "    length_function = len,\n",
    "    add_start_index = True,\n",
    ")\n",
    "docs = text_splitter.create_documents([docs])\n",
    "texts = [doc.page_content for doc in docs]\n",
    "\n",
    "\n",
    "# Define the embeddings model\n",
    "embeddings = CohereEmbeddings(model = \"embed-multilingual-v2.0\")\n",
    "\n",
    "metadata=[{\"source\": text} for text in texts]\n",
    "\n",
    "# Embed the documents and store in index\n",
    "vector_store = Qdrant.from_texts(texts, embeddings, location=\":memory:\",metadatas=metadata, collection_name=\"summaries\", distance_func=\"Dot\")"
   ]
  },
  {
   "cell_type": "code",
   "execution_count": 9,
   "metadata": {},
   "outputs": [],
   "source": [
    "retriever=vector_store.as_retriever()\n",
    "\n",
    "#create custom prompt for your use case\n",
    "prompt_template=\"\"\"\n",
    "Eres un verificador de información. Solo puedes apoyarte en los archivos que tienes como contexto.\n",
    "\n",
    "En caso de tener información sobre el texto pero esta no forma parte de tu contexto, responde: **No existe información en la base de contexto actual sobre esta afirmación.**\n",
    "\n",
    "Clasifica las afirmaciones en las siguientes categorías:\n",
    "- \"falso\": La información que aparece es completamente falsa acorde al contexto.\n",
    "- \"verdadero\": La información que aparece es completamente verdadera acorde al contexto.\n",
    "- \"a medias\": La información tiene algunas partes verdaderas y otras falsas acorde al contexto. Puede ocurrir que la información sea verdadera de acuerdo a algunas fuentes y falsa de acuerdo a otras. Si esto ocurre, menciónalo explícitamente.\n",
    "- \"bulo\": La información es falsa, escrita desde un punto de vista subjetivo y con intención de desinformar.\n",
    "- \"no hay información\": No existe información sobre la temática central de la información en la fuente. Si no existe nada de información al respecto, elige esta opción.\n",
    "\n",
    "Deberás devolver la salida de la clasificación y además una justifiación de esta clasificación, explicando cuáles de las fuentes y fechas apoyan o refutan tu clasificación.\n",
    "\n",
    "Debes decir explícitamente qué fuentes apoyan tus elecciones y cuáles no. El nombre de la fuente y la fecha de publicación aparecen antes de cada noticia de los documentos a los que tienes acceso.\n",
    "\n",
    "El formato de salida, en caso de que la afirmación sea verificable debe ser el siguiente, en Markdown:\n",
    "\n",
    "**Veredicto**: Falso / Verdadero / A medias / Bulo / No hay información\\\\\n",
    "\n",
    "**Justificación**: [Salida de la justificación que produces]\\\\\n",
    "\n",
    "**Fuentes**:\n",
    "- ABC: Falso / Verdadero / A medias / Bulo / No hay información\n",
    "- ElMundo: Falso / Verdadero / A medias / Bulo / No hay información\n",
    "- ElPlural: Falso / Verdadero / A medias / Bulo / No hay información\n",
    "- OKDiario: Falso / Verdadero / A medias / Bulo / No hay información\n",
    "\n",
    "Cita siempre las cuatro fuentes. En caso de no haber información en dicha fuente, dilo explícitamente. Asegúrate siempre de que una afirmación es 100'%' exacta para clasificarla como verdadera.\n",
    "\n",
    "Para verificar la afirmación \"El precio de la vivienda en Barcelona.\" tienes que consultar las fuentes que tienes como contexto. Si según ABC y ElMundo es verdadero, según OKDiario es falso y no hay información en ElPlural, la clasificación será \"A medias\". Si no hay información en ninguna de las fuentes, la respuesta será \"No hay información\".\n",
    "\n",
    "Esto es muy importante para mi trabajo. Recuerda decir que no hay información en caso de que no tengas conocimiento en el contexto, no inventes absolutamente nada.\n",
    "\n",
    "Si no tienes información en el respecto sobre la afirmación, di:**No existe información en la base de contexto actual sobre esta afirmación.**\n",
    "\n",
    "Tu único conocimiento disponible es tu contexto.\n",
    "----------------\n",
    "{summaries}\"\"\"\n",
    "\n",
    "messages = [\n",
    "    SystemMessagePromptTemplate.from_template(prompt_template),\n",
    "    HumanMessagePromptTemplate.from_template(\"{question}\")\n",
    "]\n",
    "prompt = ChatPromptTemplate.from_messages(messages)\n",
    "\n",
    "chain_type_kwargs = {\"prompt\": prompt}\n",
    "\n",
    "llm=Cohere(model=\"command\")\n",
    "\n",
    "#build your chain for RAG+C\n",
    "chain = RetrievalQAWithSourcesChain.from_chain_type(\n",
    "    llm=llm,\n",
    "    chain_type=\"stuff\",\n",
    "    retriever=vector_store.as_retriever(),\n",
    "    return_source_documents=True,\n",
    "    chain_type_kwargs=chain_type_kwargs\n",
    ")\n",
    "\n",
    "#print your results with Markup language\n",
    "def print_result(result):\n",
    "  output_text = f\"\"\"### Question: \n",
    "  {query}\n",
    "  ### Answer: \n",
    "  {result['answer']}\n",
    "  ### Sources: \n",
    "  {result['sources']}\n",
    "  ### All relevant sources:\n",
    "  {' '.join(list(set([doc.metadata['source'] for doc in result['source_documents']])))}\n",
    "  \"\"\"\n",
    "  return(output_text)"
   ]
  },
  {
   "cell_type": "code",
   "execution_count": 11,
   "metadata": {},
   "outputs": [
    {
     "data": {
      "text/plain": [
       "{'question': 'El paro ha bajado',\n",
       " 'answer': ' Verdadero: La tasa de temporalidad bajó en 2023 hasta el 16,5% tras aumentar los asalariados con contrato indefinido en más de 800.000 (+5,6%) y reducirse los contratados de manera temporal en 140.300 (-4,5%). \\n\\nFuentes: La tasa de temporalidad bajó en 2023 hasta el 16,5% tras aumentar los asalariados con contrato indefinido en más de 800.000 (+5,6%) y reducirse los contratados de manera temporal en 140.300 (-4,5%).  La caída es sustancialmente menor a la pérdida de ocupados que se produjo en el pasado ejercicio, cuando se perdieron 81.900 empleos. \\n\\nLa afirmación es verdadera sobre la base de los datos proveidos por el comentario. ',\n",
       " 'sources': '',\n",
       " 'source_documents': [Document(page_content='Por su parte, el número de parados disminuyó en el último trimestre en 24.600 personas, hasta 2.830.600 desempleados. Si bien, en este caso la tendencia se presenta más similar a la experimentada en años anteriores en este periodo. De hecho, la cifra mejora la los 43.800 parados que se sumaron en el año 2022 en ese cierre de ejercicio y se sitúa en línea con las mejoras experimentadas en los años precedentes a la pandemia con 22.500 (2019) y 21.700 (2018) parados menos.', metadata={'source': 'Por su parte, el número de parados disminuyó en el último trimestre en 24.600 personas, hasta 2.830.600 desempleados. Si bien, en este caso la tendencia se presenta más similar a la experimentada en años anteriores en este periodo. De hecho, la cifra mejora la los 43.800 parados que se sumaron en el año 2022 en ese cierre de ejercicio y se sitúa en línea con las mejoras experimentadas en los años precedentes a la pandemia con 22.500 (2019) y 21.700 (2018) parados menos.'}),\n",
       "  Document(page_content='Por su parte, el número de parados disminuyó en el último trimestre en 24.600 personas, hasta 2.830.600 desempleados. Si bien, en este caso la tendencia se presenta más similar a la experimentada en años anteriores en este periodo. De hecho, la cifra mejora la los 43.800 parados que se sumaron en el año 2022 en ese cierre de ejercicio y se sitúa en línea con las mejoras experimentadas en los años precedentes a la pandemia con 22.500 (2019) y 21.700 (2018) parados menos.', metadata={'source': 'Por su parte, el número de parados disminuyó en el último trimestre en 24.600 personas, hasta 2.830.600 desempleados. Si bien, en este caso la tendencia se presenta más similar a la experimentada en años anteriores en este periodo. De hecho, la cifra mejora la los 43.800 parados que se sumaron en el año 2022 en ese cierre de ejercicio y se sitúa en línea con las mejoras experimentadas en los años precedentes a la pandemia con 22.500 (2019) y 21.700 (2018) parados menos.'}),\n",
       "  Document(page_content='La tasa de temporalidad bajó en 2023 hasta el 16,5% tras aumentar los asalariados con contrato indefinido en más de 800.000 (+5,6%) y reducirse los contratados de manera temporal en 140.300 (-4,5%). \\ufeff', metadata={'source': 'La tasa de temporalidad bajó en 2023 hasta el 16,5% tras aumentar los asalariados con contrato indefinido en más de 800.000 (+5,6%) y reducirse los contratados de manera temporal en 140.300 (-4,5%). \\ufeff'}),\n",
       "  Document(page_content='Aquí, aunque la caída es sustancialmente menor a la pérdida de ocupados que se produjo en el pasado ejercicio, cuando se perdieron 81.900 empleos, el de 2023 es uno de los únicos cuatro años en los que se ha perdido empleo en el cuarto trimestre dentro de la última década -junto con los ajustes de 2022, 2017 y 2016-. En seis ocasiones de las últimas diez el mercado laboral logró aprovecha el impulso del tirón de actividad asociado a las festividades de fin de año -en los dos años anteriores a la pandemia, 2019 y 2018, se sumaron en este último tramo 92.600 y 32.600 puestos de trabajo-.', metadata={'source': 'Aquí, aunque la caída es sustancialmente menor a la pérdida de ocupados que se produjo en el pasado ejercicio, cuando se perdieron 81.900 empleos, el de 2023 es uno de los únicos cuatro años en los que se ha perdido empleo en el cuarto trimestre dentro de la última década -junto con los ajustes de 2022, 2017 y 2016-. En seis ocasiones de las últimas diez el mercado laboral logró aprovecha el impulso del tirón de actividad asociado a las festividades de fin de año -en los dos años anteriores a la pandemia, 2019 y 2018, se sumaron en este último tramo 92.600 y 32.600 puestos de trabajo-.'})]}"
      ]
     },
     "execution_count": 11,
     "metadata": {},
     "output_type": "execute_result"
    }
   ],
   "source": [
    "result"
   ]
  },
  {
   "cell_type": "code",
   "execution_count": 12,
   "metadata": {},
   "outputs": [
    {
     "data": {
      "text/markdown": [
       "### Question: \n",
       "  Yolanda Díaz vive en el ministerio\n",
       "  ### Answer: \n",
       "   La afirmación **\"Yolanda Díaz vive en el ministerio\"** no existe en la base de contexto actual sobre esta afirmación, por lo que la respuesta final sería: \n",
       "\n",
       "**Veredicto**: No existe información en la base de contexto actual sobre esta afirmación.\n",
       "\n",
       "**Justificación**: [La afirmación no está verificable dado que no existe en ninguna de las fuentes a las que tiene acceso el asistente.]\n",
       "\n",
       "**Fuentes**:\n",
       "- ABC:\n",
       "- ElMundo:\n",
       "- ElPlural:\n",
       "- OKDiario:\n",
       "\n",
       "Si desea, puede emplear el código del Markdown para agregar más información a la salida de verificación. \n",
       "  ### Sources: \n",
       "  \n",
       "  ### All relevant sources:\n",
       "  NOTICIAS RELACIONADAS\n",
       "Menos de un 10% de los casi tres millones de parados en España realiza cursos de formación\n",
       "Menos de un 10% de los casi tres millones de parados en España realiza cursos de formación\n",
       "GONZALO D. VELARDE\n",
       "Los sectores a los que más afectará la subida del SMI: más de un 30% de sus trabajadores cobran el mínimo legal\n",
       "Los sectores a los que más afectará la subida del SMI: más de un 30% de sus trabajadores cobran el mínimo legal\n",
       "GONZALO D. VELARDE\n",
       "Incluso estas cifras vienen en cierto modo maquilladas por la ganancia de empleo en el sector público, que permitió aminorar el ajuste de ocupación. Mientras que el empleo privado disminuyó este trimestre en 77.600 personas, hasta 17.653.600 trabajadores, el empleo público aumentó en 58.600, hasta 3.593.300. Incluso estas cifras vienen en cierto modo maquilladas por la ganancia de empleo en el sector público, que permitió aminorar el ajuste de ocupación. Mientras que el empleo privado disminuyó este trimestre en 77.600 personas, hasta 17.653.600 trabajadores, el empleo público aumentó en 58.600, hasta 3.593.300. La tasa de temporalidad bajó en 2023 hasta el 16,5% tras aumentar los asalariados con contrato indefinido en más de 800.000 (+5,6%) y reducirse los contratados de manera temporal en 140.300 (-4,5%). ﻿ El empleo resiste con 783.000 ocupados más y una caída de casi 200.000 parados pese al mal cierre de 2023\n",
       "El mercado laboral perdió 19.000 trabajadores en el cuarto trimestre del pasado año mientras el desempleo disminuyó en 24.600 personas\n",
       "El total de ocupados se mantiene por encima de los 21,2 millones mientras el paro alcanza a 2,8 millones de españoles, situándose la tasa en el 11,7%\n",
       "El recorte de jornada laboral que planea Díaz liquidará un tercio de la creación de empleo para 2024\n",
       "  "
      ],
      "text/plain": [
       "<IPython.core.display.Markdown object>"
      ]
     },
     "metadata": {},
     "output_type": "display_data"
    }
   ],
   "source": [
    "query = \"Yolanda Díaz vive en el ministerio\"\n",
    "result = chain(query)\n",
    "display(Markdown(print_result(result)))"
   ]
  }
 ],
 "metadata": {
  "kernelspec": {
   "display_name": "viu",
   "language": "python",
   "name": "python3"
  },
  "language_info": {
   "codemirror_mode": {
    "name": "ipython",
    "version": 3
   },
   "file_extension": ".py",
   "mimetype": "text/x-python",
   "name": "python",
   "nbconvert_exporter": "python",
   "pygments_lexer": "ipython3",
   "version": "3.9.18"
  }
 },
 "nbformat": 4,
 "nbformat_minor": 2
}
